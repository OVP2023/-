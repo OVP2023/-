{
  "nbformat": 4,
  "nbformat_minor": 0,
  "metadata": {
    "colab": {
      "provenance": [],
      "include_colab_link": true
    },
    "kernelspec": {
      "name": "python3",
      "display_name": "Python 3"
    },
    "language_info": {
      "name": "python"
    }
  },
  "cells": [
    {
      "cell_type": "markdown",
      "metadata": {
        "id": "view-in-github",
        "colab_type": "text"
      },
      "source": [
        "<a href=\"https://colab.research.google.com/github/OVP2023/IprojectGeorge/blob/main/%D0%9F%D1%83%D1%81%D1%82%D0%BE%D0%B2%D0%B0%D0%BB%D0%BE%D0%B2_%D0%B1%D0%BB%D0%BE%D0%BA_1_%D0%B7%D0%B0%D0%B4%D0%B0%D0%BD%D0%B8%D0%B5_1_ipynb%22.ipynb\" target=\"_parent\"><img src=\"https://colab.research.google.com/assets/colab-badge.svg\" alt=\"Open In Colab\"/></a>"
      ]
    },
    {
      "cell_type": "markdown",
      "source": [
        "Модуль 1. Программные средства анализа данных. Задание 1: Анализ таблиц\n",
        "\n"
      ],
      "metadata": {
        "id": "BHg0p8shXBDT"
      }
    },
    {
      "cell_type": "code",
      "source": [
        "# импортируем библиотеки\n",
        "import numpy as np\n",
        "import pandas as pd\n",
        "import matplotlib.pyplot as plt\n",
        "import seaborn as sns"
      ],
      "metadata": {
        "id": "YilTMxb3Y9mx"
      },
      "execution_count": null,
      "outputs": []
    },
    {
      "cell_type": "code",
      "source": [
        "#Загружаем  constituents-financials.csv файл таблицы средствами pandas\n",
        "df = pd.read_csv(\"https://raw.githubusercontent.com/OVP2023/IprojectGeorge/main/constituents-financials.csv\")\n",
        "#Выведите на экран 5 первых строк загруженной таблицы\n",
        "df.head()"
      ],
      "metadata": {
        "colab": {
          "base_uri": "https://localhost:8080/",
          "height": 310
        },
        "id": "3uDafmLUSQFf",
        "outputId": "0be4cc6e-9d6f-4c3f-ecf5-0937b84446cb"
      },
      "execution_count": null,
      "outputs": [
        {
          "output_type": "execute_result",
          "data": {
            "text/plain": [
              "  Symbol                      Name                  Sector   Price  \\\n",
              "0      A  Agilent Technologies Inc             Health Care   65.05   \n",
              "1    AAL   American Airlines Group             Industrials   48.60   \n",
              "2    AAP        Advance Auto Parts  Consumer Discretionary  109.63   \n",
              "3   AAPL                Apple Inc.  Information Technology  155.15   \n",
              "4   ABBV               AbbVie Inc.             Health Care  108.48   \n",
              "\n",
              "   Price/Earnings  Dividend Yield  Earnings/Share  52 Week Low  52 Week High  \\\n",
              "0           27.45        0.875698            2.10        75.00         49.23   \n",
              "1            9.92        0.778210            3.91        59.08         39.21   \n",
              "2           19.54        0.218321            6.19       169.55         78.81   \n",
              "3           16.86        1.579541            9.20       180.10        131.12   \n",
              "4           19.41        2.499560            3.29       125.86         60.05   \n",
              "\n",
              "     Market Cap        EBITDA  Price/Sales  Price/Book  \\\n",
              "0   21984606918  1.094000e+09     6.493563        4.56   \n",
              "1   24594852352  5.761000e+09     0.580226        6.03   \n",
              "2    8123611867  8.539410e+08     1.130106        2.51   \n",
              "3  809508034020  7.938600e+10     3.458609        5.66   \n",
              "4  181386347059  1.031000e+10     6.291571       26.14   \n",
              "\n",
              "                                         SEC Filings  \n",
              "0  http://www.sec.gov/cgi-bin/browse-edgar?action...  \n",
              "1  http://www.sec.gov/cgi-bin/browse-edgar?action...  \n",
              "2  http://www.sec.gov/cgi-bin/browse-edgar?action...  \n",
              "3  http://www.sec.gov/cgi-bin/browse-edgar?action...  \n",
              "4  http://www.sec.gov/cgi-bin/browse-edgar?action...  "
            ],
            "text/html": [
              "\n",
              "  <div id=\"df-2d0882a7-711a-4025-942e-a14738958099\" class=\"colab-df-container\">\n",
              "    <div>\n",
              "<style scoped>\n",
              "    .dataframe tbody tr th:only-of-type {\n",
              "        vertical-align: middle;\n",
              "    }\n",
              "\n",
              "    .dataframe tbody tr th {\n",
              "        vertical-align: top;\n",
              "    }\n",
              "\n",
              "    .dataframe thead th {\n",
              "        text-align: right;\n",
              "    }\n",
              "</style>\n",
              "<table border=\"1\" class=\"dataframe\">\n",
              "  <thead>\n",
              "    <tr style=\"text-align: right;\">\n",
              "      <th></th>\n",
              "      <th>Symbol</th>\n",
              "      <th>Name</th>\n",
              "      <th>Sector</th>\n",
              "      <th>Price</th>\n",
              "      <th>Price/Earnings</th>\n",
              "      <th>Dividend Yield</th>\n",
              "      <th>Earnings/Share</th>\n",
              "      <th>52 Week Low</th>\n",
              "      <th>52 Week High</th>\n",
              "      <th>Market Cap</th>\n",
              "      <th>EBITDA</th>\n",
              "      <th>Price/Sales</th>\n",
              "      <th>Price/Book</th>\n",
              "      <th>SEC Filings</th>\n",
              "    </tr>\n",
              "  </thead>\n",
              "  <tbody>\n",
              "    <tr>\n",
              "      <th>0</th>\n",
              "      <td>A</td>\n",
              "      <td>Agilent Technologies Inc</td>\n",
              "      <td>Health Care</td>\n",
              "      <td>65.05</td>\n",
              "      <td>27.45</td>\n",
              "      <td>0.875698</td>\n",
              "      <td>2.10</td>\n",
              "      <td>75.00</td>\n",
              "      <td>49.23</td>\n",
              "      <td>21984606918</td>\n",
              "      <td>1.094000e+09</td>\n",
              "      <td>6.493563</td>\n",
              "      <td>4.56</td>\n",
              "      <td>http://www.sec.gov/cgi-bin/browse-edgar?action...</td>\n",
              "    </tr>\n",
              "    <tr>\n",
              "      <th>1</th>\n",
              "      <td>AAL</td>\n",
              "      <td>American Airlines Group</td>\n",
              "      <td>Industrials</td>\n",
              "      <td>48.60</td>\n",
              "      <td>9.92</td>\n",
              "      <td>0.778210</td>\n",
              "      <td>3.91</td>\n",
              "      <td>59.08</td>\n",
              "      <td>39.21</td>\n",
              "      <td>24594852352</td>\n",
              "      <td>5.761000e+09</td>\n",
              "      <td>0.580226</td>\n",
              "      <td>6.03</td>\n",
              "      <td>http://www.sec.gov/cgi-bin/browse-edgar?action...</td>\n",
              "    </tr>\n",
              "    <tr>\n",
              "      <th>2</th>\n",
              "      <td>AAP</td>\n",
              "      <td>Advance Auto Parts</td>\n",
              "      <td>Consumer Discretionary</td>\n",
              "      <td>109.63</td>\n",
              "      <td>19.54</td>\n",
              "      <td>0.218321</td>\n",
              "      <td>6.19</td>\n",
              "      <td>169.55</td>\n",
              "      <td>78.81</td>\n",
              "      <td>8123611867</td>\n",
              "      <td>8.539410e+08</td>\n",
              "      <td>1.130106</td>\n",
              "      <td>2.51</td>\n",
              "      <td>http://www.sec.gov/cgi-bin/browse-edgar?action...</td>\n",
              "    </tr>\n",
              "    <tr>\n",
              "      <th>3</th>\n",
              "      <td>AAPL</td>\n",
              "      <td>Apple Inc.</td>\n",
              "      <td>Information Technology</td>\n",
              "      <td>155.15</td>\n",
              "      <td>16.86</td>\n",
              "      <td>1.579541</td>\n",
              "      <td>9.20</td>\n",
              "      <td>180.10</td>\n",
              "      <td>131.12</td>\n",
              "      <td>809508034020</td>\n",
              "      <td>7.938600e+10</td>\n",
              "      <td>3.458609</td>\n",
              "      <td>5.66</td>\n",
              "      <td>http://www.sec.gov/cgi-bin/browse-edgar?action...</td>\n",
              "    </tr>\n",
              "    <tr>\n",
              "      <th>4</th>\n",
              "      <td>ABBV</td>\n",
              "      <td>AbbVie Inc.</td>\n",
              "      <td>Health Care</td>\n",
              "      <td>108.48</td>\n",
              "      <td>19.41</td>\n",
              "      <td>2.499560</td>\n",
              "      <td>3.29</td>\n",
              "      <td>125.86</td>\n",
              "      <td>60.05</td>\n",
              "      <td>181386347059</td>\n",
              "      <td>1.031000e+10</td>\n",
              "      <td>6.291571</td>\n",
              "      <td>26.14</td>\n",
              "      <td>http://www.sec.gov/cgi-bin/browse-edgar?action...</td>\n",
              "    </tr>\n",
              "  </tbody>\n",
              "</table>\n",
              "</div>\n",
              "    <div class=\"colab-df-buttons\">\n",
              "\n",
              "  <div class=\"colab-df-container\">\n",
              "    <button class=\"colab-df-convert\" onclick=\"convertToInteractive('df-2d0882a7-711a-4025-942e-a14738958099')\"\n",
              "            title=\"Convert this dataframe to an interactive table.\"\n",
              "            style=\"display:none;\">\n",
              "\n",
              "  <svg xmlns=\"http://www.w3.org/2000/svg\" height=\"24px\" viewBox=\"0 -960 960 960\">\n",
              "    <path d=\"M120-120v-720h720v720H120Zm60-500h600v-160H180v160Zm220 220h160v-160H400v160Zm0 220h160v-160H400v160ZM180-400h160v-160H180v160Zm440 0h160v-160H620v160ZM180-180h160v-160H180v160Zm440 0h160v-160H620v160Z\"/>\n",
              "  </svg>\n",
              "    </button>\n",
              "\n",
              "  <style>\n",
              "    .colab-df-container {\n",
              "      display:flex;\n",
              "      gap: 12px;\n",
              "    }\n",
              "\n",
              "    .colab-df-convert {\n",
              "      background-color: #E8F0FE;\n",
              "      border: none;\n",
              "      border-radius: 50%;\n",
              "      cursor: pointer;\n",
              "      display: none;\n",
              "      fill: #1967D2;\n",
              "      height: 32px;\n",
              "      padding: 0 0 0 0;\n",
              "      width: 32px;\n",
              "    }\n",
              "\n",
              "    .colab-df-convert:hover {\n",
              "      background-color: #E2EBFA;\n",
              "      box-shadow: 0px 1px 2px rgba(60, 64, 67, 0.3), 0px 1px 3px 1px rgba(60, 64, 67, 0.15);\n",
              "      fill: #174EA6;\n",
              "    }\n",
              "\n",
              "    .colab-df-buttons div {\n",
              "      margin-bottom: 4px;\n",
              "    }\n",
              "\n",
              "    [theme=dark] .colab-df-convert {\n",
              "      background-color: #3B4455;\n",
              "      fill: #D2E3FC;\n",
              "    }\n",
              "\n",
              "    [theme=dark] .colab-df-convert:hover {\n",
              "      background-color: #434B5C;\n",
              "      box-shadow: 0px 1px 3px 1px rgba(0, 0, 0, 0.15);\n",
              "      filter: drop-shadow(0px 1px 2px rgba(0, 0, 0, 0.3));\n",
              "      fill: #FFFFFF;\n",
              "    }\n",
              "  </style>\n",
              "\n",
              "    <script>\n",
              "      const buttonEl =\n",
              "        document.querySelector('#df-2d0882a7-711a-4025-942e-a14738958099 button.colab-df-convert');\n",
              "      buttonEl.style.display =\n",
              "        google.colab.kernel.accessAllowed ? 'block' : 'none';\n",
              "\n",
              "      async function convertToInteractive(key) {\n",
              "        const element = document.querySelector('#df-2d0882a7-711a-4025-942e-a14738958099');\n",
              "        const dataTable =\n",
              "          await google.colab.kernel.invokeFunction('convertToInteractive',\n",
              "                                                    [key], {});\n",
              "        if (!dataTable) return;\n",
              "\n",
              "        const docLinkHtml = 'Like what you see? Visit the ' +\n",
              "          '<a target=\"_blank\" href=https://colab.research.google.com/notebooks/data_table.ipynb>data table notebook</a>'\n",
              "          + ' to learn more about interactive tables.';\n",
              "        element.innerHTML = '';\n",
              "        dataTable['output_type'] = 'display_data';\n",
              "        await google.colab.output.renderOutput(dataTable, element);\n",
              "        const docLink = document.createElement('div');\n",
              "        docLink.innerHTML = docLinkHtml;\n",
              "        element.appendChild(docLink);\n",
              "      }\n",
              "    </script>\n",
              "  </div>\n",
              "\n",
              "\n",
              "<div id=\"df-758af64c-79bc-44c7-9ebc-95c68ca12424\">\n",
              "  <button class=\"colab-df-quickchart\" onclick=\"quickchart('df-758af64c-79bc-44c7-9ebc-95c68ca12424')\"\n",
              "            title=\"Suggest charts\"\n",
              "            style=\"display:none;\">\n",
              "\n",
              "<svg xmlns=\"http://www.w3.org/2000/svg\" height=\"24px\"viewBox=\"0 0 24 24\"\n",
              "     width=\"24px\">\n",
              "    <g>\n",
              "        <path d=\"M19 3H5c-1.1 0-2 .9-2 2v14c0 1.1.9 2 2 2h14c1.1 0 2-.9 2-2V5c0-1.1-.9-2-2-2zM9 17H7v-7h2v7zm4 0h-2V7h2v10zm4 0h-2v-4h2v4z\"/>\n",
              "    </g>\n",
              "</svg>\n",
              "  </button>\n",
              "\n",
              "<style>\n",
              "  .colab-df-quickchart {\n",
              "      --bg-color: #E8F0FE;\n",
              "      --fill-color: #1967D2;\n",
              "      --hover-bg-color: #E2EBFA;\n",
              "      --hover-fill-color: #174EA6;\n",
              "      --disabled-fill-color: #AAA;\n",
              "      --disabled-bg-color: #DDD;\n",
              "  }\n",
              "\n",
              "  [theme=dark] .colab-df-quickchart {\n",
              "      --bg-color: #3B4455;\n",
              "      --fill-color: #D2E3FC;\n",
              "      --hover-bg-color: #434B5C;\n",
              "      --hover-fill-color: #FFFFFF;\n",
              "      --disabled-bg-color: #3B4455;\n",
              "      --disabled-fill-color: #666;\n",
              "  }\n",
              "\n",
              "  .colab-df-quickchart {\n",
              "    background-color: var(--bg-color);\n",
              "    border: none;\n",
              "    border-radius: 50%;\n",
              "    cursor: pointer;\n",
              "    display: none;\n",
              "    fill: var(--fill-color);\n",
              "    height: 32px;\n",
              "    padding: 0;\n",
              "    width: 32px;\n",
              "  }\n",
              "\n",
              "  .colab-df-quickchart:hover {\n",
              "    background-color: var(--hover-bg-color);\n",
              "    box-shadow: 0 1px 2px rgba(60, 64, 67, 0.3), 0 1px 3px 1px rgba(60, 64, 67, 0.15);\n",
              "    fill: var(--button-hover-fill-color);\n",
              "  }\n",
              "\n",
              "  .colab-df-quickchart-complete:disabled,\n",
              "  .colab-df-quickchart-complete:disabled:hover {\n",
              "    background-color: var(--disabled-bg-color);\n",
              "    fill: var(--disabled-fill-color);\n",
              "    box-shadow: none;\n",
              "  }\n",
              "\n",
              "  .colab-df-spinner {\n",
              "    border: 2px solid var(--fill-color);\n",
              "    border-color: transparent;\n",
              "    border-bottom-color: var(--fill-color);\n",
              "    animation:\n",
              "      spin 1s steps(1) infinite;\n",
              "  }\n",
              "\n",
              "  @keyframes spin {\n",
              "    0% {\n",
              "      border-color: transparent;\n",
              "      border-bottom-color: var(--fill-color);\n",
              "      border-left-color: var(--fill-color);\n",
              "    }\n",
              "    20% {\n",
              "      border-color: transparent;\n",
              "      border-left-color: var(--fill-color);\n",
              "      border-top-color: var(--fill-color);\n",
              "    }\n",
              "    30% {\n",
              "      border-color: transparent;\n",
              "      border-left-color: var(--fill-color);\n",
              "      border-top-color: var(--fill-color);\n",
              "      border-right-color: var(--fill-color);\n",
              "    }\n",
              "    40% {\n",
              "      border-color: transparent;\n",
              "      border-right-color: var(--fill-color);\n",
              "      border-top-color: var(--fill-color);\n",
              "    }\n",
              "    60% {\n",
              "      border-color: transparent;\n",
              "      border-right-color: var(--fill-color);\n",
              "    }\n",
              "    80% {\n",
              "      border-color: transparent;\n",
              "      border-right-color: var(--fill-color);\n",
              "      border-bottom-color: var(--fill-color);\n",
              "    }\n",
              "    90% {\n",
              "      border-color: transparent;\n",
              "      border-bottom-color: var(--fill-color);\n",
              "    }\n",
              "  }\n",
              "</style>\n",
              "\n",
              "  <script>\n",
              "    async function quickchart(key) {\n",
              "      const quickchartButtonEl =\n",
              "        document.querySelector('#' + key + ' button');\n",
              "      quickchartButtonEl.disabled = true;  // To prevent multiple clicks.\n",
              "      quickchartButtonEl.classList.add('colab-df-spinner');\n",
              "      try {\n",
              "        const charts = await google.colab.kernel.invokeFunction(\n",
              "            'suggestCharts', [key], {});\n",
              "      } catch (error) {\n",
              "        console.error('Error during call to suggestCharts:', error);\n",
              "      }\n",
              "      quickchartButtonEl.classList.remove('colab-df-spinner');\n",
              "      quickchartButtonEl.classList.add('colab-df-quickchart-complete');\n",
              "    }\n",
              "    (() => {\n",
              "      let quickchartButtonEl =\n",
              "        document.querySelector('#df-758af64c-79bc-44c7-9ebc-95c68ca12424 button');\n",
              "      quickchartButtonEl.style.display =\n",
              "        google.colab.kernel.accessAllowed ? 'block' : 'none';\n",
              "    })();\n",
              "  </script>\n",
              "</div>\n",
              "    </div>\n",
              "  </div>\n"
            ],
            "application/vnd.google.colaboratory.intrinsic+json": {
              "type": "dataframe",
              "variable_name": "df",
              "summary": "{\n  \"name\": \"df\",\n  \"rows\": 505,\n  \"fields\": [\n    {\n      \"column\": \"Symbol\",\n      \"properties\": {\n        \"dtype\": \"string\",\n        \"num_unique_values\": 505,\n        \"samples\": [\n          \"EW\",\n          \"KORS\",\n          \"WY\"\n        ],\n        \"semantic_type\": \"\",\n        \"description\": \"\"\n      }\n    },\n    {\n      \"column\": \"Name\",\n      \"properties\": {\n        \"dtype\": \"string\",\n        \"num_unique_values\": 505,\n        \"samples\": [\n          \"Edwards Lifesciences\",\n          \"Michael Kors Holdings\",\n          \"Weyerhaeuser Corp.\"\n        ],\n        \"semantic_type\": \"\",\n        \"description\": \"\"\n      }\n    },\n    {\n      \"column\": \"Sector\",\n      \"properties\": {\n        \"dtype\": \"category\",\n        \"num_unique_values\": 11,\n        \"samples\": [\n          \"Utilities\",\n          \"Health Care\",\n          \"Energy\"\n        ],\n        \"semantic_type\": \"\",\n        \"description\": \"\"\n      }\n    },\n    {\n      \"column\": \"Price\",\n      \"properties\": {\n        \"dtype\": \"number\",\n        \"std\": 134.42763606672014,\n        \"min\": 2.82,\n        \"max\": 1806.06,\n        \"num_unique_values\": 494,\n        \"samples\": [\n          52.65,\n          62.69,\n          208.42\n        ],\n        \"semantic_type\": \"\",\n        \"description\": \"\"\n      }\n    },\n    {\n      \"column\": \"Price/Earnings\",\n      \"properties\": {\n        \"dtype\": \"number\",\n        \"std\": 41.241080981820254,\n        \"min\": -251.53,\n        \"max\": 520.15,\n        \"num_unique_values\": 457,\n        \"samples\": [\n          14.23,\n          42.53,\n          12.69\n        ],\n        \"semantic_type\": \"\",\n        \"description\": \"\"\n      }\n    },\n    {\n      \"column\": \"Dividend Yield\",\n      \"properties\": {\n        \"dtype\": \"number\",\n        \"std\": 1.5372143115589627,\n        \"min\": 0.0,\n        \"max\": 12.661196,\n        \"num_unique_values\": 420,\n        \"samples\": [\n          2.7798648,\n          0.6097561,\n          1.9700643\n        ],\n        \"semantic_type\": \"\",\n        \"description\": \"\"\n      }\n    },\n    {\n      \"column\": \"Earnings/Share\",\n      \"properties\": {\n        \"dtype\": \"number\",\n        \"std\": 5.6890358603986755,\n        \"min\": -28.01,\n        \"max\": 44.09,\n        \"num_unique_values\": 402,\n        \"samples\": [\n          -1.18,\n          -2.32,\n          2.94\n        ],\n        \"semantic_type\": \"\",\n        \"description\": \"\"\n      }\n    },\n    {\n      \"column\": \"52 Week Low\",\n      \"properties\": {\n        \"dtype\": \"number\",\n        \"std\": 155.36213983311416,\n        \"min\": 6.59,\n        \"max\": 2067.99,\n        \"num_unique_values\": 501,\n        \"samples\": [\n          39.43,\n          217.62,\n          122.0697\n        ],\n        \"semantic_type\": \"\",\n        \"description\": \"\"\n      }\n    },\n    {\n      \"column\": \"52 Week High\",\n      \"properties\": {\n        \"dtype\": \"number\",\n        \"std\": 105.72547257014915,\n        \"min\": 2.8,\n        \"max\": 1589.0,\n        \"num_unique_values\": 495,\n        \"samples\": [\n          100.621,\n          51.12,\n          69.33\n        ],\n        \"semantic_type\": \"\",\n        \"description\": \"\"\n      }\n    },\n    {\n      \"column\": \"Market Cap\",\n      \"properties\": {\n        \"dtype\": \"number\",\n        \"std\": 90050171072,\n        \"min\": 2626102121,\n        \"max\": 809508034020,\n        \"num_unique_values\": 505,\n        \"samples\": [\n          27447099863,\n          10053919023,\n          26070297960\n        ],\n        \"semantic_type\": \"\",\n        \"description\": \"\"\n      }\n    },\n    {\n      \"column\": \"EBITDA\",\n      \"properties\": {\n        \"dtype\": \"number\",\n        \"std\": 6840543516.454935,\n        \"min\": -5067000000.0,\n        \"max\": 79386000000.0,\n        \"num_unique_values\": 444,\n        \"samples\": [\n          1614399000.0,\n          4284000000.0,\n          2841000000.0\n        ],\n        \"semantic_type\": \"\",\n        \"description\": \"\"\n      }\n    },\n    {\n      \"column\": \"Price/Sales\",\n      \"properties\": {\n        \"dtype\": \"number\",\n        \"std\": 3.4601102220733426,\n        \"min\": 0.15318617,\n        \"max\": 20.094294,\n        \"num_unique_values\": 505,\n        \"samples\": [\n          7.8283277,\n          3.1455927,\n          3.6396794\n        ],\n        \"semantic_type\": \"\",\n        \"description\": \"\"\n      }\n    },\n    {\n      \"column\": \"Price/Book\",\n      \"properties\": {\n        \"dtype\": \"number\",\n        \"std\": 89.6605076621137,\n        \"min\": 0.51,\n        \"max\": 1403.38,\n        \"num_unique_values\": 391,\n        \"samples\": [\n          3.13,\n          6.78,\n          4.54\n        ],\n        \"semantic_type\": \"\",\n        \"description\": \"\"\n      }\n    },\n    {\n      \"column\": \"SEC Filings\",\n      \"properties\": {\n        \"dtype\": \"string\",\n        \"num_unique_values\": 505,\n        \"samples\": [\n          \"http://www.sec.gov/cgi-bin/browse-edgar?action=getcompany&CIK=EW\",\n          \"http://www.sec.gov/cgi-bin/browse-edgar?action=getcompany&CIK=KORS\",\n          \"http://www.sec.gov/cgi-bin/browse-edgar?action=getcompany&CIK=WY\"\n        ],\n        \"semantic_type\": \"\",\n        \"description\": \"\"\n      }\n    }\n  ]\n}"
            }
          },
          "metadata": {},
          "execution_count": 61
        }
      ]
    },
    {
      "cell_type": "code",
      "source": [
        "# Узнайте и выведите на экран размер таблицы\n",
        "df.shape"
      ],
      "metadata": {
        "colab": {
          "base_uri": "https://localhost:8080/"
        },
        "id": "yd8ZEy3SZVPe",
        "outputId": "2caf74f1-6fc6-44bb-bc7e-d4122f303f39"
      },
      "execution_count": null,
      "outputs": [
        {
          "output_type": "execute_result",
          "data": {
            "text/plain": [
              "(505, 14)"
            ]
          },
          "metadata": {},
          "execution_count": 4
        }
      ]
    },
    {
      "cell_type": "code",
      "source": [
        "#Перечислите все столбцы. Для каждого столбца укажите тип данных\n",
        "df.info()"
      ],
      "metadata": {
        "colab": {
          "base_uri": "https://localhost:8080/"
        },
        "id": "7SJ7BiKDZ_h4",
        "outputId": "99e11b98-b1d3-4bc0-f746-fac57afabc8c"
      },
      "execution_count": null,
      "outputs": [
        {
          "output_type": "stream",
          "name": "stdout",
          "text": [
            "<class 'pandas.core.frame.DataFrame'>\n",
            "RangeIndex: 505 entries, 0 to 504\n",
            "Data columns (total 14 columns):\n",
            " #   Column          Non-Null Count  Dtype  \n",
            "---  ------          --------------  -----  \n",
            " 0   Symbol          505 non-null    object \n",
            " 1   Name            505 non-null    object \n",
            " 2   Sector          505 non-null    object \n",
            " 3   Price           505 non-null    float64\n",
            " 4   Price/Earnings  503 non-null    float64\n",
            " 5   Dividend Yield  505 non-null    float64\n",
            " 6   Earnings/Share  505 non-null    float64\n",
            " 7   52 Week Low     505 non-null    float64\n",
            " 8   52 Week High    505 non-null    float64\n",
            " 9   Market Cap      505 non-null    int64  \n",
            " 10  EBITDA          505 non-null    float64\n",
            " 11  Price/Sales     505 non-null    float64\n",
            " 12  Price/Book      497 non-null    float64\n",
            " 13  SEC Filings     505 non-null    object \n",
            "dtypes: float64(9), int64(1), object(4)\n",
            "memory usage: 55.4+ KB\n"
          ]
        }
      ]
    },
    {
      "cell_type": "code",
      "source": [
        "#Сгруппируйте таблицу по значениям столбца Sector, посчитайте количество строк, оказавшихся в каждой группе\n",
        "df[\"Sector\"].value_counts()"
      ],
      "metadata": {
        "colab": {
          "base_uri": "https://localhost:8080/"
        },
        "id": "n6RAbFdVRo9t",
        "outputId": "92cc64f9-4404-4ba4-c328-ed59187b6e0f"
      },
      "execution_count": null,
      "outputs": [
        {
          "output_type": "execute_result",
          "data": {
            "text/plain": [
              "Sector\n",
              "Consumer Discretionary        84\n",
              "Information Technology        70\n",
              "Financials                    68\n",
              "Industrials                   67\n",
              "Health Care                   61\n",
              "Consumer Staples              34\n",
              "Real Estate                   33\n",
              "Energy                        32\n",
              "Utilities                     28\n",
              "Materials                     25\n",
              "Telecommunication Services     3\n",
              "Name: count, dtype: int64"
            ]
          },
          "metadata": {},
          "execution_count": 10
        }
      ]
    },
    {
      "cell_type": "code",
      "source": [
        "#Посчитайте количество строк с записями для отрасли Industrials (столбец Sector).\n",
        "df[df[\"Sector\"]==\"Industrials\"].shape[0]"
      ],
      "metadata": {
        "colab": {
          "base_uri": "https://localhost:8080/"
        },
        "id": "aPSbXQWAaVtU",
        "outputId": "efc5d238-d167-4d16-c6ac-603b774555a4"
      },
      "execution_count": null,
      "outputs": [
        {
          "output_type": "execute_result",
          "data": {
            "text/plain": [
              "67"
            ]
          },
          "metadata": {},
          "execution_count": 5
        }
      ]
    },
    {
      "cell_type": "code",
      "source": [
        "#Найдите и посчитайте количество строк, содержащих пропущенные значения.\n",
        "df.isna().sum()"
      ],
      "metadata": {
        "colab": {
          "base_uri": "https://localhost:8080/"
        },
        "id": "R_Un0IqEa59Q",
        "outputId": "fd900b09-528e-417d-8633-662442c9dc00"
      },
      "execution_count": null,
      "outputs": [
        {
          "output_type": "execute_result",
          "data": {
            "text/plain": [
              "Symbol            0\n",
              "Name              0\n",
              "Sector            0\n",
              "Price             0\n",
              "Price/Earnings    2\n",
              "Dividend Yield    0\n",
              "Earnings/Share    0\n",
              "52 Week Low       0\n",
              "52 Week High      0\n",
              "Market Cap        0\n",
              "EBITDA            0\n",
              "Price/Sales       0\n",
              "Price/Book        8\n",
              "SEC Filings       0\n",
              "dtype: int64"
            ]
          },
          "metadata": {},
          "execution_count": 5
        }
      ]
    },
    {
      "cell_type": "code",
      "source": [
        "#Проверьте, есть ли в группе Industrials хоть одна фирма с аббревиатурой (столбец Symbol), начинающейся на букву \"А\".\n",
        "ser=pd.Series(df[\"Symbol\"][df['Sector']==\"Industrials\"])\n",
        "ser.str.count('^A').sum()\n",
        "#В группе Industrials в столбце Symbol есть 7 фирм аббревиатура которых начинается на A"
      ],
      "metadata": {
        "id": "eO2T-G1FVE2w",
        "colab": {
          "base_uri": "https://localhost:8080/"
        },
        "outputId": "54640655-e7f4-42bf-a10b-29df3541bf06"
      },
      "execution_count": null,
      "outputs": [
        {
          "output_type": "execute_result",
          "data": {
            "text/plain": [
              "7"
            ]
          },
          "metadata": {},
          "execution_count": 84
        }
      ]
    },
    {
      "cell_type": "code",
      "source": [
        "ser.head(15)"
      ],
      "metadata": {
        "colab": {
          "base_uri": "https://localhost:8080/"
        },
        "id": "TMnpPtXg3WYy",
        "outputId": "29589d33-aaea-48ae-bfd0-16a927ff0fa6"
      },
      "execution_count": null,
      "outputs": [
        {
          "output_type": "execute_result",
          "data": {
            "text/plain": [
              "1       AAL\n",
              "27      ALK\n",
              "29     ALLE\n",
              "33      AME\n",
              "43      AOS\n",
              "50     ARNC\n",
              "57      AYI\n",
              "59       BA\n",
              "82      CAT\n",
              "96     CHRW\n",
              "106     CMI\n",
              "112     COL\n",
              "121     CSX\n",
              "122    CTAS\n",
              "130     DAL\n",
              "Name: Symbol, dtype: object"
            ]
          },
          "metadata": {},
          "execution_count": 83
        }
      ]
    },
    {
      "cell_type": "code",
      "source": [
        "#Посчитайте и запишите как столбец разницу максимального и минимального значений из столбца Price для каждой группы.\n",
        "dff=pd.DataFrame(df['Price'].groupby(df['Sector']).agg(max)-df['Price'].groupby(df['Sector']).agg(min))\n",
        "dff['Sector']=dff.index\n",
        "dff"
      ],
      "metadata": {
        "id": "5sgzKNrdVML7",
        "colab": {
          "base_uri": "https://localhost:8080/",
          "height": 426
        },
        "outputId": "e68d269c-f9de-40db-e17c-9ea74a5a30f5"
      },
      "execution_count": null,
      "outputs": [
        {
          "output_type": "execute_result",
          "data": {
            "text/plain": [
              "                              Price                      Sector\n",
              "Sector                                                         \n",
              "Consumer Discretionary      1795.63      Consumer Discretionary\n",
              "Consumer Staples             188.77            Consumer Staples\n",
              "Energy                       166.34                      Energy\n",
              "Financials                   496.00                  Financials\n",
              "Health Care                  575.80                 Health Care\n",
              "Industrials                  319.85                 Industrials\n",
              "Information Technology       996.49      Information Technology\n",
              "Materials                    370.49                   Materials\n",
              "Real Estate                  395.97                 Real Estate\n",
              "Telecommunication Services    32.84  Telecommunication Services\n",
              "Utilities                    135.23                   Utilities"
            ],
            "text/html": [
              "\n",
              "  <div id=\"df-20ce6bbe-4fda-4695-b550-7c13f213cb70\" class=\"colab-df-container\">\n",
              "    <div>\n",
              "<style scoped>\n",
              "    .dataframe tbody tr th:only-of-type {\n",
              "        vertical-align: middle;\n",
              "    }\n",
              "\n",
              "    .dataframe tbody tr th {\n",
              "        vertical-align: top;\n",
              "    }\n",
              "\n",
              "    .dataframe thead th {\n",
              "        text-align: right;\n",
              "    }\n",
              "</style>\n",
              "<table border=\"1\" class=\"dataframe\">\n",
              "  <thead>\n",
              "    <tr style=\"text-align: right;\">\n",
              "      <th></th>\n",
              "      <th>Price</th>\n",
              "      <th>Sector</th>\n",
              "    </tr>\n",
              "    <tr>\n",
              "      <th>Sector</th>\n",
              "      <th></th>\n",
              "      <th></th>\n",
              "    </tr>\n",
              "  </thead>\n",
              "  <tbody>\n",
              "    <tr>\n",
              "      <th>Consumer Discretionary</th>\n",
              "      <td>1795.63</td>\n",
              "      <td>Consumer Discretionary</td>\n",
              "    </tr>\n",
              "    <tr>\n",
              "      <th>Consumer Staples</th>\n",
              "      <td>188.77</td>\n",
              "      <td>Consumer Staples</td>\n",
              "    </tr>\n",
              "    <tr>\n",
              "      <th>Energy</th>\n",
              "      <td>166.34</td>\n",
              "      <td>Energy</td>\n",
              "    </tr>\n",
              "    <tr>\n",
              "      <th>Financials</th>\n",
              "      <td>496.00</td>\n",
              "      <td>Financials</td>\n",
              "    </tr>\n",
              "    <tr>\n",
              "      <th>Health Care</th>\n",
              "      <td>575.80</td>\n",
              "      <td>Health Care</td>\n",
              "    </tr>\n",
              "    <tr>\n",
              "      <th>Industrials</th>\n",
              "      <td>319.85</td>\n",
              "      <td>Industrials</td>\n",
              "    </tr>\n",
              "    <tr>\n",
              "      <th>Information Technology</th>\n",
              "      <td>996.49</td>\n",
              "      <td>Information Technology</td>\n",
              "    </tr>\n",
              "    <tr>\n",
              "      <th>Materials</th>\n",
              "      <td>370.49</td>\n",
              "      <td>Materials</td>\n",
              "    </tr>\n",
              "    <tr>\n",
              "      <th>Real Estate</th>\n",
              "      <td>395.97</td>\n",
              "      <td>Real Estate</td>\n",
              "    </tr>\n",
              "    <tr>\n",
              "      <th>Telecommunication Services</th>\n",
              "      <td>32.84</td>\n",
              "      <td>Telecommunication Services</td>\n",
              "    </tr>\n",
              "    <tr>\n",
              "      <th>Utilities</th>\n",
              "      <td>135.23</td>\n",
              "      <td>Utilities</td>\n",
              "    </tr>\n",
              "  </tbody>\n",
              "</table>\n",
              "</div>\n",
              "    <div class=\"colab-df-buttons\">\n",
              "\n",
              "  <div class=\"colab-df-container\">\n",
              "    <button class=\"colab-df-convert\" onclick=\"convertToInteractive('df-20ce6bbe-4fda-4695-b550-7c13f213cb70')\"\n",
              "            title=\"Convert this dataframe to an interactive table.\"\n",
              "            style=\"display:none;\">\n",
              "\n",
              "  <svg xmlns=\"http://www.w3.org/2000/svg\" height=\"24px\" viewBox=\"0 -960 960 960\">\n",
              "    <path d=\"M120-120v-720h720v720H120Zm60-500h600v-160H180v160Zm220 220h160v-160H400v160Zm0 220h160v-160H400v160ZM180-400h160v-160H180v160Zm440 0h160v-160H620v160ZM180-180h160v-160H180v160Zm440 0h160v-160H620v160Z\"/>\n",
              "  </svg>\n",
              "    </button>\n",
              "\n",
              "  <style>\n",
              "    .colab-df-container {\n",
              "      display:flex;\n",
              "      gap: 12px;\n",
              "    }\n",
              "\n",
              "    .colab-df-convert {\n",
              "      background-color: #E8F0FE;\n",
              "      border: none;\n",
              "      border-radius: 50%;\n",
              "      cursor: pointer;\n",
              "      display: none;\n",
              "      fill: #1967D2;\n",
              "      height: 32px;\n",
              "      padding: 0 0 0 0;\n",
              "      width: 32px;\n",
              "    }\n",
              "\n",
              "    .colab-df-convert:hover {\n",
              "      background-color: #E2EBFA;\n",
              "      box-shadow: 0px 1px 2px rgba(60, 64, 67, 0.3), 0px 1px 3px 1px rgba(60, 64, 67, 0.15);\n",
              "      fill: #174EA6;\n",
              "    }\n",
              "\n",
              "    .colab-df-buttons div {\n",
              "      margin-bottom: 4px;\n",
              "    }\n",
              "\n",
              "    [theme=dark] .colab-df-convert {\n",
              "      background-color: #3B4455;\n",
              "      fill: #D2E3FC;\n",
              "    }\n",
              "\n",
              "    [theme=dark] .colab-df-convert:hover {\n",
              "      background-color: #434B5C;\n",
              "      box-shadow: 0px 1px 3px 1px rgba(0, 0, 0, 0.15);\n",
              "      filter: drop-shadow(0px 1px 2px rgba(0, 0, 0, 0.3));\n",
              "      fill: #FFFFFF;\n",
              "    }\n",
              "  </style>\n",
              "\n",
              "    <script>\n",
              "      const buttonEl =\n",
              "        document.querySelector('#df-20ce6bbe-4fda-4695-b550-7c13f213cb70 button.colab-df-convert');\n",
              "      buttonEl.style.display =\n",
              "        google.colab.kernel.accessAllowed ? 'block' : 'none';\n",
              "\n",
              "      async function convertToInteractive(key) {\n",
              "        const element = document.querySelector('#df-20ce6bbe-4fda-4695-b550-7c13f213cb70');\n",
              "        const dataTable =\n",
              "          await google.colab.kernel.invokeFunction('convertToInteractive',\n",
              "                                                    [key], {});\n",
              "        if (!dataTable) return;\n",
              "\n",
              "        const docLinkHtml = 'Like what you see? Visit the ' +\n",
              "          '<a target=\"_blank\" href=https://colab.research.google.com/notebooks/data_table.ipynb>data table notebook</a>'\n",
              "          + ' to learn more about interactive tables.';\n",
              "        element.innerHTML = '';\n",
              "        dataTable['output_type'] = 'display_data';\n",
              "        await google.colab.output.renderOutput(dataTable, element);\n",
              "        const docLink = document.createElement('div');\n",
              "        docLink.innerHTML = docLinkHtml;\n",
              "        element.appendChild(docLink);\n",
              "      }\n",
              "    </script>\n",
              "  </div>\n",
              "\n",
              "\n",
              "<div id=\"df-fb7c4758-e46a-41b5-8e76-127431d69b85\">\n",
              "  <button class=\"colab-df-quickchart\" onclick=\"quickchart('df-fb7c4758-e46a-41b5-8e76-127431d69b85')\"\n",
              "            title=\"Suggest charts\"\n",
              "            style=\"display:none;\">\n",
              "\n",
              "<svg xmlns=\"http://www.w3.org/2000/svg\" height=\"24px\"viewBox=\"0 0 24 24\"\n",
              "     width=\"24px\">\n",
              "    <g>\n",
              "        <path d=\"M19 3H5c-1.1 0-2 .9-2 2v14c0 1.1.9 2 2 2h14c1.1 0 2-.9 2-2V5c0-1.1-.9-2-2-2zM9 17H7v-7h2v7zm4 0h-2V7h2v10zm4 0h-2v-4h2v4z\"/>\n",
              "    </g>\n",
              "</svg>\n",
              "  </button>\n",
              "\n",
              "<style>\n",
              "  .colab-df-quickchart {\n",
              "      --bg-color: #E8F0FE;\n",
              "      --fill-color: #1967D2;\n",
              "      --hover-bg-color: #E2EBFA;\n",
              "      --hover-fill-color: #174EA6;\n",
              "      --disabled-fill-color: #AAA;\n",
              "      --disabled-bg-color: #DDD;\n",
              "  }\n",
              "\n",
              "  [theme=dark] .colab-df-quickchart {\n",
              "      --bg-color: #3B4455;\n",
              "      --fill-color: #D2E3FC;\n",
              "      --hover-bg-color: #434B5C;\n",
              "      --hover-fill-color: #FFFFFF;\n",
              "      --disabled-bg-color: #3B4455;\n",
              "      --disabled-fill-color: #666;\n",
              "  }\n",
              "\n",
              "  .colab-df-quickchart {\n",
              "    background-color: var(--bg-color);\n",
              "    border: none;\n",
              "    border-radius: 50%;\n",
              "    cursor: pointer;\n",
              "    display: none;\n",
              "    fill: var(--fill-color);\n",
              "    height: 32px;\n",
              "    padding: 0;\n",
              "    width: 32px;\n",
              "  }\n",
              "\n",
              "  .colab-df-quickchart:hover {\n",
              "    background-color: var(--hover-bg-color);\n",
              "    box-shadow: 0 1px 2px rgba(60, 64, 67, 0.3), 0 1px 3px 1px rgba(60, 64, 67, 0.15);\n",
              "    fill: var(--button-hover-fill-color);\n",
              "  }\n",
              "\n",
              "  .colab-df-quickchart-complete:disabled,\n",
              "  .colab-df-quickchart-complete:disabled:hover {\n",
              "    background-color: var(--disabled-bg-color);\n",
              "    fill: var(--disabled-fill-color);\n",
              "    box-shadow: none;\n",
              "  }\n",
              "\n",
              "  .colab-df-spinner {\n",
              "    border: 2px solid var(--fill-color);\n",
              "    border-color: transparent;\n",
              "    border-bottom-color: var(--fill-color);\n",
              "    animation:\n",
              "      spin 1s steps(1) infinite;\n",
              "  }\n",
              "\n",
              "  @keyframes spin {\n",
              "    0% {\n",
              "      border-color: transparent;\n",
              "      border-bottom-color: var(--fill-color);\n",
              "      border-left-color: var(--fill-color);\n",
              "    }\n",
              "    20% {\n",
              "      border-color: transparent;\n",
              "      border-left-color: var(--fill-color);\n",
              "      border-top-color: var(--fill-color);\n",
              "    }\n",
              "    30% {\n",
              "      border-color: transparent;\n",
              "      border-left-color: var(--fill-color);\n",
              "      border-top-color: var(--fill-color);\n",
              "      border-right-color: var(--fill-color);\n",
              "    }\n",
              "    40% {\n",
              "      border-color: transparent;\n",
              "      border-right-color: var(--fill-color);\n",
              "      border-top-color: var(--fill-color);\n",
              "    }\n",
              "    60% {\n",
              "      border-color: transparent;\n",
              "      border-right-color: var(--fill-color);\n",
              "    }\n",
              "    80% {\n",
              "      border-color: transparent;\n",
              "      border-right-color: var(--fill-color);\n",
              "      border-bottom-color: var(--fill-color);\n",
              "    }\n",
              "    90% {\n",
              "      border-color: transparent;\n",
              "      border-bottom-color: var(--fill-color);\n",
              "    }\n",
              "  }\n",
              "</style>\n",
              "\n",
              "  <script>\n",
              "    async function quickchart(key) {\n",
              "      const quickchartButtonEl =\n",
              "        document.querySelector('#' + key + ' button');\n",
              "      quickchartButtonEl.disabled = true;  // To prevent multiple clicks.\n",
              "      quickchartButtonEl.classList.add('colab-df-spinner');\n",
              "      try {\n",
              "        const charts = await google.colab.kernel.invokeFunction(\n",
              "            'suggestCharts', [key], {});\n",
              "      } catch (error) {\n",
              "        console.error('Error during call to suggestCharts:', error);\n",
              "      }\n",
              "      quickchartButtonEl.classList.remove('colab-df-spinner');\n",
              "      quickchartButtonEl.classList.add('colab-df-quickchart-complete');\n",
              "    }\n",
              "    (() => {\n",
              "      let quickchartButtonEl =\n",
              "        document.querySelector('#df-fb7c4758-e46a-41b5-8e76-127431d69b85 button');\n",
              "      quickchartButtonEl.style.display =\n",
              "        google.colab.kernel.accessAllowed ? 'block' : 'none';\n",
              "    })();\n",
              "  </script>\n",
              "</div>\n",
              "    </div>\n",
              "  </div>\n"
            ],
            "application/vnd.google.colaboratory.intrinsic+json": {
              "type": "dataframe",
              "variable_name": "dff",
              "repr_error": "cannot insert Sector, already exists"
            }
          },
          "metadata": {},
          "execution_count": 6
        }
      ]
    },
    {
      "cell_type": "code",
      "source": [
        "#Отобразите результат в виде столбчатого графика, настройте график, подпишите оси, легенду графика, название графика.\n",
        "plt.barh(dff['Sector'], dff['Price'])\n",
        "plt.title(\"Разность максимального и минимального значений Price для отраслей в Sector \")\n",
        "plt.xlabel(\"Разность максимального и минимального значений Price\")\n",
        "plt.ylabel(\"Отрасль\")\n",
        "#Отобразите медианное значение линией красного цвета.\n",
        "plt.axvline(x=dff['Price'].median(),color='r')"
      ],
      "metadata": {
        "id": "GsqhhOUPHMPc",
        "colab": {
          "base_uri": "https://localhost:8080/",
          "height": 490
        },
        "outputId": "459aec08-4203-4a1e-bc03-2916e49fc17d"
      },
      "execution_count": null,
      "outputs": [
        {
          "output_type": "execute_result",
          "data": {
            "text/plain": [
              "<matplotlib.lines.Line2D at 0x7a9c9a3da470>"
            ]
          },
          "metadata": {},
          "execution_count": 40
        },
        {
          "output_type": "display_data",
          "data": {
            "text/plain": [
              "<Figure size 640x480 with 1 Axes>"
            ],
            "image/png": "[encoded data removed]"
          },
          "metadata": {}
        }
      ]
    },
    {
      "cell_type": "code",
      "source": [
        "#Разбейте столбец Price на 5 интервалов. Выведите на экран название (Name) фирмы, у которой цена (Price) входит в интервал Exclusive.\n",
        "df[\"Price\"].describe()"
      ],
      "metadata": {
        "colab": {
          "base_uri": "https://localhost:8080/"
        },
        "id": "StDK5ynQMKJE",
        "outputId": "91f2c768-c904-44cb-ae9a-a2150fb6756d"
      },
      "execution_count": null,
      "outputs": [
        {
          "output_type": "execute_result",
          "data": {
            "text/plain": [
              "count     505.000000\n",
              "mean      103.830634\n",
              "std       134.427636\n",
              "min         2.820000\n",
              "25%        46.250000\n",
              "50%        73.920000\n",
              "75%       116.540000\n",
              "max      1806.060000\n",
              "Name: Price, dtype: float64"
            ]
          },
          "metadata": {},
          "execution_count": 16
        }
      ]
    },
    {
      "cell_type": "code",
      "source": [
        "df[\"Price\"].quantile(0.95)"
      ],
      "metadata": {
        "colab": {
          "base_uri": "https://localhost:8080/"
        },
        "id": "zNDQPLIvP62P",
        "outputId": "a1350357-822c-49f1-96da-a9244657b7c5"
      },
      "execution_count": null,
      "outputs": [
        {
          "output_type": "execute_result",
          "data": {
            "text/plain": [
              "240.968"
            ]
          },
          "metadata": {},
          "execution_count": 22
        }
      ]
    },
    {
      "cell_type": "code",
      "source": [
        "#Делим столбец Price на 5 групп: Super low [2.82,46.25], Low ]46.25,73.92],Middle ]73.92,116.54],Hight ]116.54,240.968], Exclusive ]240.968,1806.06]"
      ],
      "metadata": {
        "id": "B-O3iXp0Mnfu"
      },
      "execution_count": null,
      "outputs": []
    },
    {
      "cell_type": "code",
      "source": [
        "#Выведите на экран название (Name) фирмы, у которой цена (Price) входит в интервал Exclusive.\n",
        "df[\"Name\"][df[\"Price\"]>240.968]"
      ],
      "metadata": {
        "colab": {
          "base_uri": "https://localhost:8080/"
        },
        "outputId": "38756d9e-d16e-482e-daa0-6deb7af09bad",
        "id": "U3pdR2CpTE7-"
      },
      "execution_count": null,
      "outputs": [
        {
          "output_type": "execute_result",
          "data": {
            "text/plain": [
              "38              Amazon.com Inc\n",
              "58                AutoZone Inc\n",
              "59              Boeing Company\n",
              "69                 Biogen Inc.\n",
              "71                   BlackRock\n",
              "97      Charter Communications\n",
              "105     Chipotle Mexican Grill\n",
              "163                    Equinix\n",
              "206       Alphabet Inc Class C\n",
              "207       Alphabet Inc Class A\n",
              "212        Goldman Sachs Group\n",
              "214       Grainger (W.W.) Inc.\n",
              "239                Humana Inc.\n",
              "254    Intuitive Surgical Inc.\n",
              "286      Lockheed Martin Corp.\n",
              "309          Mohawk Industries\n",
              "325             Mettler Toledo\n",
              "334               Netflix Inc.\n",
              "339     Northrop Grumman Corp.\n",
              "354        O'Reilly Automotive\n",
              "360          Priceline.com Inc\n",
              "391      Everest Re Group Ltd.\n",
              "393                  Regeneron\n",
              "401         Roper Technologies\n",
              "411           Sherwin-Williams\n",
              "436            TransDigm Group\n",
              "Name: Name, dtype: object"
            ]
          },
          "metadata": {},
          "execution_count": 25
        }
      ]
    }
  ]
}